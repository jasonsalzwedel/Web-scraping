{
 "cells": [
  {
   "cell_type": "markdown",
   "metadata": {},
   "source": [
    "# Web Scraping \n",
    "This notebook shows how to extract the world golf ranking from the PGA Tour web site.\n",
    "\n",
    "### Step 1:\n",
    "include the libraries required."
   ]
  },
  {
   "cell_type": "code",
   "execution_count": 1,
   "metadata": {
    "collapsed": false
   },
   "outputs": [
    {
     "name": "stderr",
     "output_type": "stream",
     "text": [
      "Loading required package: xml2\n",
      "Loading tidyverse: ggplot2\n",
      "Loading tidyverse: tibble\n",
      "Loading tidyverse: tidyr\n",
      "Loading tidyverse: readr\n",
      "Loading tidyverse: purrr\n",
      "Loading tidyverse: dplyr\n",
      "Conflicts with tidy packages ---------------------------------------------------\n",
      "filter(): dplyr, stats\n",
      "lag():    dplyr, stats\n"
     ]
    }
   ],
   "source": [
    "library(rvest)\n",
    "library(tidyverse)"
   ]
  },
  {
   "cell_type": "markdown",
   "metadata": {},
   "source": [
    "### The web page to be scraped\n",
    "The page to be scraped is the PGA tour ranking page shown in the screen shot below.\n",
    "\n",
    "http://www.pgatour.com/stats/stat.186.html\n",
    "\n",
    "![alt text](Screenshot.png \"Title\")"
   ]
  },
  {
   "cell_type": "code",
   "execution_count": 3,
   "metadata": {
    "collapsed": false
   },
   "outputs": [
    {
     "ename": "ERROR",
     "evalue": "Error in open.connection(x, \"rb\"): Couldn't connect to server\n",
     "output_type": "error",
     "traceback": [
      "Error in open.connection(x, \"rb\"): Couldn't connect to server\nTraceback:\n",
      "1. read_html(\"http://www.pgatour.com/stats/stat.186.html\")",
      "2. read_html.default(\"http://www.pgatour.com/stats/stat.186.html\")",
      "3. suppressWarnings(read_xml(x, encoding = encoding, ..., as_html = TRUE, \n .     options = options))",
      "4. withCallingHandlers(expr, warning = function(w) invokeRestart(\"muffleWarning\"))",
      "5. read_xml(x, encoding = encoding, ..., as_html = TRUE, options = options)",
      "6. read_xml.character(x, encoding = encoding, ..., as_html = TRUE, \n .     options = options)",
      "7. read_xml.connection(con, encoding = encoding, ..., as_html = as_html, \n .     base_url = x, options = options)",
      "8. open(x, \"rb\")",
      "9. open.connection(x, \"rb\")"
     ]
    }
   ],
   "source": [
    "web_page <- read_html(\"http://www.pgatour.com/stats/stat.186.html\")"
   ]
  },
  {
   "cell_type": "markdown",
   "metadata": {},
   "source": [
    "### Step 2:\n",
    "Read the web page in.\n",
    "\n"
   ]
  },
  {
   "cell_type": "markdown",
   "metadata": {},
   "source": [
    "### Step 3:\n",
    "Extract the elements of type \"table\" "
   ]
  },
  {
   "cell_type": "code",
   "execution_count": 5,
   "metadata": {
    "collapsed": false
   },
   "outputs": [],
   "source": [
    "web_elements <- html_nodes(x = web_page, css = \"table\")"
   ]
  },
  {
   "cell_type": "markdown",
   "metadata": {},
   "source": [
    "### Step 4:\n",
    "Check which table on the page contains using the selectorgadget.\n",
    "\n",
    "### step 5: \n",
    "read in the contents of the second table into a dataframe."
   ]
  },
  {
   "cell_type": "code",
   "execution_count": 6,
   "metadata": {
    "collapsed": true
   },
   "outputs": [],
   "source": [
    "web_table <- html_table(web_elements[[2]])"
   ]
  },
  {
   "cell_type": "markdown",
   "metadata": {},
   "source": [
    "### step 6:\n",
    "Use the data in the dataframe as required.\n",
    "For example show who is ranked number 1 in the world."
   ]
  },
  {
   "cell_type": "code",
   "execution_count": 8,
   "metadata": {
    "collapsed": false
   },
   "outputs": [
    {
     "data": {
      "text/html": [
       "'Dustin Johnson'"
      ],
      "text/latex": [
       "'Dustin Johnson'"
      ],
      "text/markdown": [
       "'Dustin Johnson'"
      ],
      "text/plain": [
       "[1] \"Dustin Johnson\""
      ]
     },
     "metadata": {},
     "output_type": "display_data"
    }
   ],
   "source": [
    "web_table[1,3]"
   ]
  }
 ],
 "metadata": {
  "anaconda-cloud": {},
  "kernelspec": {
   "display_name": "R",
   "language": "R",
   "name": "ir"
  },
  "language_info": {
   "codemirror_mode": "r",
   "file_extension": ".r",
   "mimetype": "text/x-r-source",
   "name": "R",
   "pygments_lexer": "r",
   "version": "3.3.3"
  }
 },
 "nbformat": 4,
 "nbformat_minor": 1
}
